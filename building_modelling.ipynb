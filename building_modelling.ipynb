{
 "cells": [
  {
   "cell_type": "markdown",
   "id": "1c80b8ba",
   "metadata": {},
   "source": [
    "# Building Modelling SEM/SGB 07/06/2022\n",
    "with Prof. Christian GHIAUS\n",
    "\n",
    "Project members: Shariq NADEEM, Jana KADDOUR, Bram SEZGIN, Mikayel MARGARYAN, AL-Mu’tez billah AL-SQOUR\n",
    "\n",
    "Disclaimer: Large parts of the python code and markdown explanations are directly copied from 🔗(https://github.com/cghiaus/dm4bem). Adaptations are made where necessairy.\n"
   ]
  },
  {
   "cell_type": "code",
   "execution_count": 1,
   "id": "94c1c2d5",
   "metadata": {},
   "outputs": [],
   "source": [
    "# Import relevant libraries\n",
    "import numpy as np\n",
    "import pandas as pd\n",
    "import matplotlib.pyplot as plt\n",
    "import dm4bem"
   ]
  },
  {
   "cell_type": "markdown",
   "id": "7f8799c5",
   "metadata": {},
   "source": [
    "## Introduction\n",
    "\n",
    "Buildings consume a significant amount of energy whether residential, commercial or industrial. Although the rate of consumption is different for each, one can agree that they all have contribution in the global climate change issue in a holistic view. Building energy management systems play a vital role to gain control of the building consumption and take appropriate measures for the reduction of energy consumption by a building.\n",
    "\n",
    "Making buildings more energy efficient will contribute significantly to the EU achieving its energy and climate goals. But before going deep down further in efficiency improvement and energy management, a basic simulation and control strategy of a building model must be studied. A typical building simulation model has inputs from the building geometry, weather forecasts, internal heat gains from building occupants and equipment loads, heating, ventilation, and cooling (HVAC) system specifications. All these inputs are considered while performing this simulation modeling.\n",
    "This report discusses the designing of a building model, undergone hypothesis, a classical thermal model, the mathematical model and the model implementation using Jupyter Python notebook. The results of steady state simulation, dynamic simulation and inside temperature control via optimization are also presented.\n"
   ]
  },
  {
   "cell_type": "markdown",
   "id": "f2a1d27b",
   "metadata": {},
   "source": [
    "## Building Plan and Hypothesis"
   ]
  },
  {
   "cell_type": "markdown",
   "id": "5b8cfe19",
   "metadata": {},
   "source": [
    "### Building Plan\n",
    "\n",
    "The figure below presents the section view of the building chosen to be modelled. The following points describe the building:\n",
    "- The studio designed has one window on the west side which is 5m long and this will allow the light coming through.\n",
    "- The large room in the studio is mentioned as room A and consists of a wooden door (1m long) on the north side.\n",
    "- The toilet is located at the south-east corner of the room and it is a 2m x 2m space called as room B. On the north side of room B there is a wooden door of length 2m.\n",
    "- All the concrete external walls of the building are insulated (width = 16cm).\n",
    "- The common/internal wall is made of concrete but is insulated.\n",
    "- The external wall that separates outside and room A, is designated as wall A.\n",
    "- The external wall that separates outside and room B, is designated as wall B.\n",
    "- The height of all the concrete walls, all the insulations and all the wooden doors, irrespective of the living space or the toilet, is 2.5m.\n",
    "- There are internal heat sources present such as a kitchen, lighting and occupants.\n"
   ]
  },
  {
   "cell_type": "code",
   "execution_count": 2,
   "id": "a650a3a2",
   "metadata": {},
   "outputs": [],
   "source": [
    "# Building dimensions\n",
    "H = 2.5      # height of the room\n",
    "La = 10      # length of external wall A\n",
    "Lb = 4       # length of external wall B\n",
    "L = 5        # building length\n",
    "Lda = 1      # length of door A\n",
    "Ldb = 2      # length of door B\n",
    "Li = 2       # length of internal/common wall\n",
    "\n",
    "W_wall = 0.15    # width/2 concrete \n",
    "W_glass = 0.01   # width/2 glass\n",
    "W_ins = 0.08     # width/2 insulation\n",
    "W_door = 0.5     # width/2 door"
   ]
  },
  {
   "cell_type": "markdown",
   "id": "764c9071",
   "metadata": {},
   "source": [
    "![smart_room_design](images/smart_room_design.png)"
   ]
  },
  {
   "cell_type": "markdown",
   "id": "e6906231",
   "metadata": {},
   "source": [
    "Below the properties of the different materials are given. Note that the outside walls consist of concrete and insulation, while the inside wall only contains concrete. The two doors in the model are made out of wood."
   ]
  },
  {
   "cell_type": "code",
   "execution_count": 3,
   "id": "00392981",
   "metadata": {},
   "outputs": [],
   "source": [
    "# Material parameters\n",
    "air = {'Density': 1.2,'Specific heat': 1000} #  kg/m³, J/kg.K\n",
    "\n",
    "cond_conc = 1.4     # conductivity concrete\n",
    "cond_ins = 0.027    # conductivity insulation\n",
    "cond_glass = 0.8    # conductivity glass\n",
    "cond_wood = 0.02   # conductivity wood\n",
    "\n",
    "wall = {'Density': [2300, 55, 2500, 650],        # kg/m³\n",
    "        'Specific heat': [880, 1210, 750, 1700],  # J/kg.K\n",
    "        'Conductivity': [cond_conc, cond_ins, cond_glass, cond_wood], # W/m.K\n",
    "        'Width': [W_wall, W_ins, W_glass, W_door],\n",
    "        'Height': [H, H, H, H]}\n",
    "wall = pd.DataFrame(wall, index=['Concrete', 'Insulation', 'Glass', 'Wood'])"
   ]
  },
  {
   "cell_type": "markdown",
   "id": "3c7629db",
   "metadata": {},
   "source": [
    "At the outside and inside of the building there is convective heat transfer. To model this the following convection constants are defined."
   ]
  },
  {
   "cell_type": "code",
   "execution_count": 4,
   "id": "f1c24020",
   "metadata": {},
   "outputs": [],
   "source": [
    "# Convection\n",
    "ho = 10      # convection coeff outside\n",
    "hi = 4       # convection coeff inside"
   ]
  },
  {
   "cell_type": "markdown",
   "id": "f4cb66eb",
   "metadata": {},
   "source": [
    "Inside the building there is also a HVAC unit which tries to control the inside temperature to a given setpoint. The HVAC unit is modelled as a proportional gain with respect to the difference between inside and outside temperature. (For verifying the steady state corectness Kp is initially set to zero)"
   ]
  },
  {
   "cell_type": "code",
   "execution_count": 5,
   "id": "0926262f",
   "metadata": {},
   "outputs": [],
   "source": [
    "# HVAC controller gain\n",
    "Kp = 0 # 500 # P-Controller Gains"
   ]
  },
  {
   "cell_type": "markdown",
   "id": "a2f0ada3",
   "metadata": {},
   "source": [
    "Below also the ventilation of the building is modelled, where ACH defines the air changes per hour."
   ]
  },
  {
   "cell_type": "code",
   "execution_count": 6,
   "id": "a6e91c13",
   "metadata": {},
   "outputs": [],
   "source": [
    "# ventilation & advection\n",
    "Va = L*L*H - Ldb*Li*H      # m³ volume of air\n",
    "ACH = 1          # air changes per hour\n",
    "Va_dot = ACH * Va / 3600    # m³/s air infiltration"
   ]
  },
  {
   "cell_type": "markdown",
   "id": "14b86b9f",
   "metadata": {},
   "source": [
    "### Hypothesis\n",
    "To model the previously discussed building some simplifying assumptions are made:\n",
    "- The top and bottom of the building are perfectly isolated, which means there are no heat flows through the roof or floor.\n",
    "- Long wave radiation between the inner surfaces is neglected.\n",
    "- All materials in the simulation are considered thermally linear.\n",
    "- One dimensional heat transfer in a direction normal to the surface of the walls, door or window.\n",
    "- Only diffuse radiation from the outside is exposed to the side of the building that has a window. The rest of the building is fully shaded and sees no light."
   ]
  },
  {
   "cell_type": "markdown",
   "id": "75260438",
   "metadata": {},
   "source": [
    "## Thermal Modelling"
   ]
  },
  {
   "cell_type": "markdown",
   "id": "65ce9c0f",
   "metadata": {},
   "source": [
    "The figure below shows the thermal model of the building. In this thermal model, the whole model was divided in branches in order to have an accurate representation. In total there are eight branches. There are separate branches for the concrete wall A, door A and window for room A. One of the branches represent the ventilation that will occur through the window when it is opened. A separate branch represents the HVAC and the internal heat fluxes. Another branch represents the external wall B of room B. Finally, there are two branches that are common between the two rooms, one is the commonly shared wall and the other one is the door of room B.\n",
    "\n",
    "All the nodes that represent a temperature and all the conductances that represent a flow are numbered. The building inertia is modelled by capacitances where necessairy in the model. Subsequently solar radiation sources are also added were added to better simulate optimal control of the internal building temperature. Due to the previously discussed hypothesis there is only diffuse light hitting the window. While partially absorbed, the largest part of this diffuse light is transmitted by the window and absorbed by the inside surface of wall A and the common wall.\n"
   ]
  },
  {
   "cell_type": "markdown",
   "id": "a7376e50",
   "metadata": {},
   "source": [
    "![thermal_network](images/thermal_network.png)"
   ]
  },
  {
   "cell_type": "markdown",
   "id": "0abf9879",
   "metadata": {},
   "source": [
    "The thermal circuit is discribed by the diferential-algebraic set of equations:\n",
    "\n",
    "$$C \\dot{\\theta} = -(A^T G A) \\theta + A^T G b + f$$\n",
    "$$q = G (-A \\theta + b)$$\n",
    "\n",
    "where:\n",
    "- **A** incidence matrix: shows how the temperature nodes are conected by branches of heat flow. It consists of $n_q$ rows and $n_{\\theta}$ columns, where $n_q = 29$ is the number of flow branches and $n_{\\theta} = 23$  is the number of temperature nodes. If flow *m* enters  into the node *n*, then the element (*m, n*) is 1; if flow *m* exits from the node *n*, then the element (*m, n*) is -1; if flow *m* is not conected to node *n*, then the element (*m, n*) is 0.\n",
    "\n",
    "- **G** conductance matrix: diagonal matrix containing the conductances. Its size is It consists of $n_q \\times n_q$,  where $n_q$ is the number of flow branches.\n",
    "\n",
    "- **b** temperature source vector: denotes the temperature sources connected to the branch. If there is no temperature source on the branch *m*, then $b_m = 0$.\n",
    "\n",
    "- **C** capacity matrix: diagonal matrix containing the capacities. If there is no capacity in the node *n*, then $C_{n, n} = 0$.\n",
    "\n",
    "- **f** heat flow source vector: represents any sort of heat flux source connected to a node. If there is no heat flow source in the node *n*, then $f_n = 0$.\n",
    "\n",
    "- **$\\theta$** represents the temperature vector containing the temperature at each node."
   ]
  },
  {
   "cell_type": "markdown",
   "id": "175bfa02",
   "metadata": {},
   "source": [
    "### Incidence Matrix\n",
    "The construction of the incidence matrix **A** is critical as a wrong value will produce nonsensical results such as negative temperature values when only positive temperature sources are present. In the code below each branch of the previously discussed thermal model is defined. For constructing the incidence matrix, all flows from 0 to 22 are modelled from left to right while the flows from 22 to 28 are modelled from right to left."
   ]
  },
  {
   "cell_type": "code",
   "execution_count": 7,
   "id": "e9f83009",
   "metadata": {
    "scrolled": true
   },
   "outputs": [],
   "source": [
    "A = np.zeros([29,23])\n",
    "\n",
    "# -- Wall A\n",
    "A[0,0] =  1\n",
    "A[1,0] = -1\n",
    "\n",
    "A[1,1] =  1\n",
    "A[2,1] = -1\n",
    "\n",
    "A[2,2] =  1\n",
    "A[3,2] = -1\n",
    "\n",
    "A[3,3] =  1\n",
    "A[4,3] = -1\n",
    "\n",
    "A[4,4] =  1\n",
    "A[5,4] = -1\n",
    "\n",
    "# -- External door A\n",
    "A[6,6] =  1\n",
    "A[7,6] = -1\n",
    "\n",
    "A[7,7] =  1\n",
    "A[8,7] = -1\n",
    "\n",
    "A[8,8] =  1\n",
    "A[9,8] = -1\n",
    "\n",
    "# -- Window\n",
    "A[10,9] =   1\n",
    "A[11,9] =  -1\n",
    "\n",
    "A[11,10] =  1\n",
    "A[12,10] = -1\n",
    "\n",
    "# -- Zone A\n",
    "A[5,5] =  1\n",
    "A[9,5]=   1\n",
    "A[12,5]=  1\n",
    "A[13,5]=  1\n",
    "A[14,5]=  1\n",
    "A[15,5]= -1\n",
    "A[19,5]= -1\n",
    "\n",
    "# -- Internal door B\n",
    "A[19,11] =  1\n",
    "A[20,11] = -1\n",
    "\n",
    "A[20,12] =  1\n",
    "A[21,12] = -1\n",
    "\n",
    "A[21,13] =  1\n",
    "A[22,13] = -1\n",
    "\n",
    "# -- Internal/Common wall\n",
    "A[15,14] =  1\n",
    "A[16,14] = -1\n",
    "\n",
    "A[16,15] =  1\n",
    "A[17,15] = -1\n",
    "\n",
    "A[17,16] =  1\n",
    "A[18,16] = -1\n",
    "\n",
    "# -- Wall B\n",
    "A[23,22] =  1\n",
    "A[24,22] = -1\n",
    "\n",
    "A[24,21] =  1\n",
    "A[25,21] = -1\n",
    "\n",
    "A[25,20] =  1\n",
    "A[26,20] = -1\n",
    "\n",
    "A[26,19] =  1\n",
    "A[27,19] = -1\n",
    "\n",
    "A[27,18] =  1\n",
    "A[28,18] = -1\n",
    "\n",
    "# -- Zone B\n",
    "A[22,17] = 1\n",
    "A[18,17] = 1\n",
    "A[28,17]=  1"
   ]
  },
  {
   "cell_type": "markdown",
   "id": "f925b78f",
   "metadata": {},
   "source": [
    "### Conductance Matrix\n",
    "In the conductance matrix **G** all the conduction, convection and advection heat transfer phenomena are modelled. Also the proportional gain of the HVAC is included. Every diagonal element of the conductance matrix represents a conductance in the thermal model discussed before. Therefore the dimension of G is 29 by 29."
   ]
  },
  {
   "cell_type": "code",
   "execution_count": 8,
   "id": "2cbe5d0b",
   "metadata": {},
   "outputs": [],
   "source": [
    "# G_Matrix\n",
    "g = np.zeros(29)\n",
    "\n",
    "g[0] = ho*La*H\n",
    "g[1] = La*H*cond_conc/W_wall\n",
    "g[2] = La*H*cond_conc/W_wall\n",
    "g[3] = La*H*cond_ins/W_ins\n",
    "g[4] = La*H*cond_ins/W_ins\n",
    "g[5] = hi*La*H\n",
    "\n",
    "g[6] = ho*Lda*H\n",
    "g[7] = Lda*H*cond_wood/W_door\n",
    "g[8] = Lda*H*cond_wood/W_door\n",
    "g[9] = hi*Lda*H\n",
    "\n",
    "g[10] = float(1/((1/(ho*L*H)) + (1/(L*H*cond_glass/W_glass)))) # window\n",
    "g[11] = L*H*cond_glass/W_glass\n",
    "g[12] = hi*La*H # window\n",
    "\n",
    "g[13] = Va_dot * air['Density'] * air['Specific heat']\n",
    "g[14] = Kp\n",
    "\n",
    "g[15] = hi*Li*H\n",
    "g[16] = Li*H*cond_conc/W_wall\n",
    "g[17] = Li*H*cond_conc/W_wall\n",
    "g[18] = hi*Li*H\n",
    "\n",
    "g[19] = hi*Lb*H\n",
    "g[20] = Lb*H*cond_wood/W_door\n",
    "g[21] = Lb*H*cond_wood/W_door\n",
    "g[22] = hi*Lb*H\n",
    "\n",
    "g[23] = ho*Lb*H\n",
    "g[24] = Lb*H*cond_conc/W_wall\n",
    "g[25] = Lb*H*cond_conc/W_wall\n",
    "g[26] = Lb*H*cond_ins/W_ins\n",
    "g[27] = Lb*H*cond_ins/W_ins\n",
    "g[28] = hi*Lb*H\n",
    "\n",
    "G = np.diag(g)"
   ]
  },
  {
   "cell_type": "markdown",
   "id": "a1e2f664",
   "metadata": {},
   "source": [
    "### Capacitance Matrix\n",
    "The capacitance matrix **C** represents the thermal inertia of the walls, window and doors. The dimension of the capacitance matrix is 23 by 23, as each diagonal entry reprensents the inertia of a temperature node."
   ]
  },
  {
   "cell_type": "code",
   "execution_count": 9,
   "id": "ed4f9caa",
   "metadata": {},
   "outputs": [],
   "source": [
    "# C_matrix\n",
    "C = wall['Density'] * wall['Specific heat'] * wall['Height'] * wall['Width']\n",
    "C['Air'] = air['Density'] * air['Specific heat'] * Va\n",
    "\n",
    "c = np.zeros(23)\n",
    "c[1] = C['Concrete'] * La\n",
    "c[3] = C['Insulation'] * La\n",
    "c[5] = C['Air']\n",
    "c[7] = C['Wood'] * Lda\n",
    "c[9] = C['Glass'] * L\n",
    "c[12] = C['Wood'] * Ldb\n",
    "c[15] = C['Concrete'] * Li\n",
    "c[17] = C['Air']\n",
    "c[19] = C['Insulation'] * Lb\n",
    "c[21] = C['Concrete'] * Lb\n",
    "\n",
    "C = np.diag(c)"
   ]
  },
  {
   "cell_type": "markdown",
   "id": "4e664be5",
   "metadata": {},
   "source": [
    "### Input Vector\n",
    "The vector of temperature sources **b** is the size of the number of branches here 29. All outside temperature sources of the model are set to 10°C while the internal setpoint temperature for the HVAC is set to 20°C. "
   ]
  },
  {
   "cell_type": "code",
   "execution_count": 10,
   "id": "63ab351e",
   "metadata": {},
   "outputs": [],
   "source": [
    "T_out = 10;\n",
    "T_isp = 20;\n",
    "b = np.zeros(29)\n",
    "b[0]  = T_out\n",
    "b[6]  = T_out\n",
    "b[10] = T_out\n",
    "b[13] = T_out\n",
    "b[14] = T_isp\n",
    "b[23] = T_out\n"
   ]
  },
  {
   "cell_type": "markdown",
   "id": "3b3394a2",
   "metadata": {},
   "source": [
    "The vector of heat sources is **f**. It has the size of the number of nodes (here 23) and its element corresponding to a node without a heat source is zero. For the steady state modelling all the sources are set to zero to be able to verify the correctness of the modelling, which is explained later in the notebook (see state-space model)."
   ]
  },
  {
   "cell_type": "code",
   "execution_count": 11,
   "id": "12f4c7c6",
   "metadata": {},
   "outputs": [],
   "source": [
    "Q_a = 0 # internal sources\n",
    "phi_s = np.array([0, 0, 0]) # outdoor radiative heat flow\n",
    "\n",
    "f = np.zeros(23)\n",
    "f[[4, 5, 9, 14]] = np.array([phi_s[0], Q_a, phi_s[1], phi_s[2]])"
   ]
  },
  {
   "cell_type": "markdown",
   "id": "d2e7894f",
   "metadata": {},
   "source": [
    "The *vector of outputs* is **y**. It has the size of the number of nodes (here 23). The non-zero values of **y** indicate the nodes that are the outputs of the model. Let's assume that all temperatures are of interest so that the model can be verified in a later stage (see state-space model).\n",
    "The *vector of inputs* **u** is:\n",
    "\n",
    "$$\\mathbf{u} = \\begin{bmatrix}\n",
    "\\mathbf{b}\\\\ \n",
    "\\mathbf{f}\n",
    "\\end{bmatrix}$$\n",
    "\n",
    "where **b** is  the vector of temperature sources and **f** the vector of heat flow sources. Note that in Python, a vector is a row. The **u** vector is obtained as an horizontal stack of the sources that are in the circuit (non-zero elements of **b** and **f**):"
   ]
  },
  {
   "cell_type": "code",
   "execution_count": 12,
   "id": "641e6fbd",
   "metadata": {},
   "outputs": [],
   "source": [
    "y = np.ones(23)\n",
    "u = np.hstack([b[np.nonzero(b)], f[np.nonzero(f)]])"
   ]
  },
  {
   "cell_type": "markdown",
   "id": "71cf7768",
   "metadata": {},
   "source": [
    "## State-Space Model"
   ]
  },
  {
   "cell_type": "markdown",
   "id": "03fa0b45",
   "metadata": {},
   "source": [
    "The [state-space representation](https://en.m.wikipedia.org/wiki/State-space_representation) of the dynamic model is obtained from the differential-algebraic set of equations:"
   ]
  },
  {
   "cell_type": "code",
   "execution_count": 13,
   "id": "a93e302a",
   "metadata": {},
   "outputs": [],
   "source": [
    "[As, Bs, Cs, Ds] = dm4bem.tc2ss(A, G, b, C, f, y)"
   ]
  },
  {
   "cell_type": "markdown",
   "id": "834e9ee9",
   "metadata": {},
   "source": [
    "Let's compare the steady state results obtained with the differential-algebraic equations of the thermal circuit:\n",
    "$$y_{tc} = (A^T G A)^{-1}(A^T G b + f)$$\n",
    "and the state-space:\n",
    "$$y_{ss} = (-C_s A_s^{-1} B_s + D_s) u$$ "
   ]
  },
  {
   "cell_type": "code",
   "execution_count": 14,
   "id": "30027eb3",
   "metadata": {},
   "outputs": [
    {
     "name": "stdout",
     "output_type": "stream",
     "text": [
      "[10. 10. 10. 10. 10. 10. 10. 10. 10. 10. 10. 10. 10. 10. 10. 10. 10. 10.\n",
      " 10. 10. 10. 10. 10.]\n",
      "[10. 10. 10. 10. 10. 10. 10. 10. 10. 10. 10. 10. 10. 10. 10. 10. 10. 10.\n",
      " 10. 10. 10. 10. 10.]\n",
      "Max error in steady-state between thermal circuit and state-space: 1.48e-12\n"
     ]
    }
   ],
   "source": [
    "yss = (-Cs @ np.linalg.inv(As) @ Bs + Ds) @ u\n",
    "ytc = np.linalg.inv(A.T @ G @ A) @ (A.T @ G @ b + f)\n",
    "\n",
    "print(np.array_str(yss, precision=3, suppress_small=True))\n",
    "print(np.array_str(ytc, precision=3, suppress_small=True))\n",
    "print(f'Max error in steady-state between thermal circuit and state-space:\\\n",
    " {max(abs(yss - ytc)):.2e}')"
   ]
  },
  {
   "cell_type": "markdown",
   "id": "72f28f40",
   "metadata": {},
   "source": [
    "There are 2 important conclusions that can be made from the result shown above:\n",
    "1. The numerical accuracy of both approaches is high as the numerical difference between two different computation methods yields the same result up to a high precision.\n",
    "2. All the temperature nodes of the model are equal to the outside temperature (in this case 10°C). This is the case because the HVAC proportional constant and other external heat flow sources are set to zero. Logically every temperature of the building must then be equal to the outside temperature. This result gives confidence that the previously constructed matrices are correct."
   ]
  },
  {
   "cell_type": "markdown",
   "id": "5d9d6aef",
   "metadata": {},
   "source": [
    "## Dynamic Simulation\n",
    "In dynamic simulation, the inputs vary in time. The sources are indicated by ones"
   ]
  },
  {
   "cell_type": "code",
   "execution_count": 15,
   "id": "40001577",
   "metadata": {},
   "outputs": [],
   "source": [
    "b = np.zeros(29)\n",
    "b[[0, 6, 10, 13, 14, 23]] = 1\n",
    "\n",
    "f = np.zeros(23)\n",
    "f[[4, 5, 9, 14]] = 1"
   ]
  },
  {
   "cell_type": "markdown",
   "id": "3e911d51",
   "metadata": {},
   "source": [
    "Let's consider that the output of the circuit is the indoor temperature of the largest room (i.e. the temperature of node 5):"
   ]
  },
  {
   "cell_type": "code",
   "execution_count": 16,
   "id": "15299e44",
   "metadata": {},
   "outputs": [],
   "source": [
    "y = np.zeros(23)\n",
    "y[[5]] = 1"
   ]
  },
  {
   "cell_type": "markdown",
   "id": "4b2f71aa",
   "metadata": {},
   "source": [
    "The state-space representation is obtained from the differential-algebraic equations of the thermal circuit:"
   ]
  },
  {
   "cell_type": "code",
   "execution_count": 17,
   "id": "c666ce74",
   "metadata": {},
   "outputs": [],
   "source": [
    "[As, Bs, Cs, Ds] = dm4bem.tc2ss(A, G, b, C, f, y)"
   ]
  },
  {
   "cell_type": "markdown",
   "id": "5494fd9e",
   "metadata": {},
   "source": [
    "### Time Step\n",
    "The maximum time step for numerical stability of Euler explicit integration in time is given by the minimum eigenvalue $\\lambda$ of the state matrix $A_s$:\n",
    "\n",
    "$$ \\Delta t \\leq \\min (-2 / \\lambda_i) = \\min T_i/2$$\n",
    "\n",
    "where $T_i$ is the time constants, $T_i = - \\frac{1}{\\lambda_i} $"
   ]
  },
  {
   "cell_type": "code",
   "execution_count": 18,
   "id": "f44387c4",
   "metadata": {},
   "outputs": [
    {
     "name": "stdout",
     "output_type": "stream",
     "text": [
      "Maximum time step: 821.59 s\n"
     ]
    }
   ],
   "source": [
    "dtmax = min(-2. / np.linalg.eig(As)[0])\n",
    "print(f'Maximum time step: {dtmax:.2f} s')"
   ]
  },
  {
   "cell_type": "markdown",
   "id": "5f0a63f9",
   "metadata": {},
   "source": [
    "The maximum time step for numerical stability of Euler explicit integration in time depends on the value of the P-controller.\n",
    "- For a free floating building with **Kp = 0**, the maximal time step is **821.59s**.\n",
    "- For **Kp = 500**, the time step is **198.56s**.\n",
    "\n",
    "Consequently **dt = 100s** is chosen so that the explicit Euler integration is stable for both cases. For even larger values of Kp, the time step for explicit Euler stability further decreases. This is because for high values of Kp the building becomes a fast dynamic system. To integrate these fast dynamics the time step should also be small."
   ]
  },
  {
   "cell_type": "code",
   "execution_count": 19,
   "id": "461b861c",
   "metadata": {},
   "outputs": [],
   "source": [
    "dt = 100"
   ]
  },
  {
   "cell_type": "markdown",
   "id": "5c4fb61e",
   "metadata": {},
   "source": [
    "### Step Response\n",
    "Let's obtain the dynamic response of the system to a step input. For the duration of simulation:"
   ]
  },
  {
   "cell_type": "code",
   "execution_count": 20,
   "id": "8887bc2b",
   "metadata": {},
   "outputs": [],
   "source": [
    "duration = 3600*24*3"
   ]
  },
  {
   "cell_type": "markdown",
   "id": "43b1d4ef",
   "metadata": {},
   "source": [
    "the number of steps is:"
   ]
  },
  {
   "cell_type": "code",
   "execution_count": 21,
   "id": "5fef6725",
   "metadata": {},
   "outputs": [],
   "source": [
    "n = int(np.floor(duration / dt))"
   ]
  },
  {
   "cell_type": "markdown",
   "id": "e15ab790",
   "metadata": {},
   "source": [
    "The time vector (with time step `dt`) is"
   ]
  },
  {
   "cell_type": "code",
   "execution_count": 22,
   "id": "208fd6cb",
   "metadata": {},
   "outputs": [],
   "source": [
    "t = np.arange(0, n * dt, dt)    # time"
   ]
  },
  {
   "cell_type": "markdown",
   "id": "3ca4a878",
   "metadata": {},
   "source": [
    "For the input vector **u**, the outdoor temperatures are set to `To = 1`, the indoor set-point temperature is `Tsp = 1`, and the heat flow sources are zero. Note that for a nonzero Kp the system will act much faster to a temperature step. This is expected because the HVAC tries to equalize the inside and setpoint temperature."
   ]
  },
  {
   "cell_type": "code",
   "execution_count": 23,
   "id": "92bbd9a8",
   "metadata": {},
   "outputs": [],
   "source": [
    "# Vectors of state and input (in time)\n",
    "n_tC = As.shape[0]              # no of state variables (temps with capacity)\n",
    "# u = [To To To To Tsp To Phi_s0 Qa Phi_s1 Phi_s2]\n",
    "u = np.zeros([10, n])\n",
    "u[0:6, :] = np.ones([6, n])"
   ]
  },
  {
   "cell_type": "markdown",
   "id": "4f0e8a55",
   "metadata": {},
   "source": [
    "The vectors for the evolution of temperatures (states) in time for Euler **exp**licit and **imp**licit are:"
   ]
  },
  {
   "cell_type": "code",
   "execution_count": 24,
   "id": "13accd09",
   "metadata": {},
   "outputs": [],
   "source": [
    "temp_exp = np.zeros([n_tC, t.shape[0]])\n",
    "temp_imp = np.zeros([n_tC, t.shape[0]])"
   ]
  },
  {
   "cell_type": "markdown",
   "id": "1864729c",
   "metadata": {},
   "source": [
    "By integrating the state-space model\n",
    "$$\\left\\{\\begin{array}{rr}\n",
    "\\dot{\\theta}=A_s \\theta + B_s u\\\\ \n",
    "y = C_s \\theta + D_s u\n",
    "\\end{array}\\right.$$\n",
    "by using Euler forward (or explicit)\n",
    "$$ \\theta_{k+1} = (I + \\Delta t A) \\theta _k + \\Delta t B u_k $$\n",
    "and Euler backward (or implicit) integration\n",
    "$$\\theta_{k+1} = (I - \\Delta t A)^{-1} ( \\theta _k + \\Delta t B u_k )$$"
   ]
  },
  {
   "cell_type": "code",
   "execution_count": 25,
   "id": "9f6c874d",
   "metadata": {},
   "outputs": [],
   "source": [
    "I = np.eye(n_tC)\n",
    "for k in range(n - 1):\n",
    "    temp_exp[:, k + 1] = (I + dt * As) @\\\n",
    "        temp_exp[:, k] + dt * Bs @ u[:, k]\n",
    "    temp_imp[:, k + 1] = np.linalg.inv(I - dt * As) @\\\n",
    "        (temp_imp[:, k] + dt * Bs @ u[:, k])"
   ]
  },
  {
   "cell_type": "markdown",
   "id": "659352de",
   "metadata": {},
   "source": [
    "The following outputs are obtained:"
   ]
  },
  {
   "cell_type": "code",
   "execution_count": 26,
   "id": "269343c7",
   "metadata": {},
   "outputs": [
    {
     "data": {
      "image/png": "[encoded data removed]",
      "text/plain": [
       "<Figure size 432x288 with 1 Axes>"
      ]
     },
     "metadata": {
      "needs_background": "light"
     },
     "output_type": "display_data"
    }
   ],
   "source": [
    "y_exp = Cs @ temp_exp + Ds @  u\n",
    "y_imp = Cs @ temp_imp + Ds @  u \n",
    "\n",
    "fig, ax = plt.subplots()\n",
    "ax.plot(t / 3600, y_exp.T, t / 3600, y_imp.T)\n",
    "ax.set(xlabel='Time [h]',\n",
    "       ylabel='$T_i$ [°C]',\n",
    "       title='Step input: To = 1°C')\n",
    "plt.show()"
   ]
  },
  {
   "cell_type": "markdown",
   "id": "252aebdd",
   "metadata": {},
   "source": [
    "The first part of the curve where there is a rapid temperature increase is due to the ventilation. If the outside temperature changes and this air comes into the building, the inside temperature is quickly affected. The second part of the curve, where the indoor temperature increases more slowly, is affected by the slower reacting thermal mass of the building.\n",
    "\n",
    "Also note that the explicity euler integration is stable, which is due to the earlier choice of a stable time step. If an unstable timestep is chosen, the explicit Euler integrated solution will be unstable and oscillate increasingly. The implicit Euler integrated solution is always stable, however this stability cannot be confused by the accuracy of the solution. For large timesteps, the implicit Euler solution degrades.\n"
   ]
  },
  {
   "cell_type": "code",
   "execution_count": 27,
   "id": "6f1e469e",
   "metadata": {},
   "outputs": [
    {
     "name": "stdout",
     "output_type": "stream",
     "text": [
      "Steady-state indoor temperature obtained with:\n",
      "- DAE model: 1.0000 °C\n",
      "- response to step input:0.9673 °C\n"
     ]
    }
   ],
   "source": [
    "b = np.zeros(29)\n",
    "b[[0, 6, 10, 13, 14, 23]] = 1\n",
    "f = np.zeros(23)\n",
    "\n",
    "ytc = np.linalg.inv(A.T @ G @ A) @ (A.T @ G @ b + f)\n",
    "print('Steady-state indoor temperature obtained with:')\n",
    "print(f'- DAE model: {ytc[6]:.4f} °C')\n",
    "print(f'- response to step input:{float(y_exp[:, -2]):.4f} °C')"
   ]
  },
  {
   "cell_type": "markdown",
   "id": "40c2d747",
   "metadata": {},
   "source": [
    "### Simulation with Weather Data\n",
    "\n",
    "Read the hourly weather data file from start date to end date. \n",
    "The data are for one month in the year 2000 (the choice of the year and month is arbitrary)."
   ]
  },
  {
   "cell_type": "code",
   "execution_count": 28,
   "id": "0b01bc16",
   "metadata": {},
   "outputs": [],
   "source": [
    "filename = 'FRA_Lyon.074810_IWEC.epw'\n",
    "start_date = '2000-05-03 12:00:00'\n",
    "end_date = '2000-06-05 18:00:00'\n",
    "\n",
    "# Read weather data from Energyplus .epw file\n",
    "[data, meta] = dm4bem.read_epw(filename, coerce_year=None)\n",
    "weather = data[[\"temp_air\", \"dir_n_rad\", \"dif_h_rad\"]]\n",
    "del data\n",
    "weather.index = weather.index.map(lambda t: t.replace(year=2000))\n",
    "weather = weather[(weather.index >= start_date) & (\n",
    "    weather.index < end_date)]"
   ]
  },
  {
   "cell_type": "markdown",
   "id": "b914cc42",
   "metadata": {},
   "source": [
    "From weather data, calculate the hourly solar radiation on a tilted surface, `Φt1` [W]. Note that only diffuse radiation is taken into account."
   ]
  },
  {
   "cell_type": "code",
   "execution_count": 29,
   "id": "c2893830",
   "metadata": {},
   "outputs": [],
   "source": [
    "surface_orientation = {'slope': 90,\n",
    "                       'azimuth': 0,\n",
    "                       'latitude': 45}\n",
    "albedo = 0.2\n",
    "rad_surf1 = dm4bem.sol_rad_tilt_surf(weather, surface_orientation, albedo)\n",
    "rad_surf1['Φt1'] = rad_surf1['diffuse']\n"
   ]
  },
  {
   "cell_type": "markdown",
   "id": "8aca76ef",
   "metadata": {},
   "source": [
    "The weather data is at the time-step of 1h. It needs to be at time step of `dt`. The outside temperature is `To`"
   ]
  },
  {
   "cell_type": "code",
   "execution_count": 30,
   "id": "55e10dd8",
   "metadata": {},
   "outputs": [],
   "source": [
    "data = pd.concat([weather['temp_air'], rad_surf1['Φt1']], axis=1)\n",
    "data = data.resample(str(dt) + 'S').interpolate(method='linear')\n",
    "data = data.rename(columns={'temp_air': 'To'})\n"
   ]
  },
  {
   "cell_type": "markdown",
   "id": "523a0807",
   "metadata": {},
   "source": [
    "Let's consider the indoor temperature setpoint `Tisp` and auxiliary heat flow `Qa` constant for the whole simulation period. Note that a part of the diffuse light `Φs1` is absorbed by the glass , while the other part of the light `Φs0` and `Φs2`is transmitted by the glass and absorbed by the different walls."
   ]
  },
  {
   "cell_type": "code",
   "execution_count": 31,
   "id": "50e0c706",
   "metadata": {},
   "outputs": [],
   "source": [
    "α_gSW = 0.1 # short wave glass absortivity\n",
    "α_wSW = 0.2 # shart wave absortivity white surface\n",
    "τ_gSW = 0.83 # short wave glass transmitance\n",
    "Tisp = 20 # HVAC inside temperature setpoint\n",
    "Qa = 0 # iside building heat generation\n",
    "data['Tisp'] = Tisp * np.ones(data.shape[0]) \n",
    "data['Qa'] = Qa * np.ones(data.shape[0])\n",
    "data['Φs0'] = data['Φt1']* τ_gSW * α_wSW * (L-Li) * H # on wall A\n",
    "data['Φs1'] = data['Φt1']* α_gSW * L * H # on glass\n",
    "data['Φs2'] = data['Φt1']* τ_gSW * α_wSW * Li * H # on internal/common wall"
   ]
  },
  {
   "cell_type": "markdown",
   "id": "cd3485d2",
   "metadata": {},
   "source": [
    "The simulation time vector, at time step `dt`is:"
   ]
  },
  {
   "cell_type": "code",
   "execution_count": 32,
   "id": "bd5f6143",
   "metadata": {},
   "outputs": [],
   "source": [
    "t = dt * np.arange(data.shape[0])"
   ]
  },
  {
   "cell_type": "markdown",
   "id": "afb3e2f0",
   "metadata": {},
   "source": [
    "The input vector is formed by the temperature sources $\\left [ T_o, T_o , T_o, T_o, T_{i,sp}, T_o \\right ]$ and the heat flow sources $\\left [ \\Phi_{s0}, \\dot{Q_a}, \\Phi_{s1}, \\Phi_{s2} \\right ]$"
   ]
  },
  {
   "cell_type": "code",
   "execution_count": 33,
   "id": "5e5751e0",
   "metadata": {},
   "outputs": [],
   "source": [
    "u = pd.concat([data['To'], data['To'], data['To'], data['To'], data['Tisp'], data['To'], data['Φs0'], data['Qa'], data['Φs1'], data['Φs2']], axis=1)"
   ]
  },
  {
   "cell_type": "markdown",
   "id": "89d6db65",
   "metadata": {},
   "source": [
    "The initial value of the state-vector can be different of zero:"
   ]
  },
  {
   "cell_type": "code",
   "execution_count": 34,
   "id": "764cc763",
   "metadata": {},
   "outputs": [],
   "source": [
    "temp_exp = 20 * np.ones([As.shape[0], u.shape[0]])"
   ]
  },
  {
   "cell_type": "markdown",
   "id": "5028a723",
   "metadata": {},
   "source": [
    "Explicit Euler integration in time\n",
    "$$ \\theta_{k+1} = (I + \\Delta t A) \\theta _k + \\Delta t B u_k $$"
   ]
  },
  {
   "cell_type": "code",
   "execution_count": 35,
   "id": "79458bc1",
   "metadata": {},
   "outputs": [],
   "source": [
    "for k in range(u.shape[0] - 1):\n",
    "    temp_exp[:, k + 1] = (I + dt * As) @ temp_exp[:, k]\\\n",
    "        + dt * Bs @ u.iloc[k, :]"
   ]
  },
  {
   "cell_type": "markdown",
   "id": "15ccfe9f",
   "metadata": {},
   "source": [
    "yields the time variation of state variable $\\theta$, from which the variation of the output is obtained (i.e. indoor temperature):\n",
    "$$y = C_s \\theta + D_s u$$\n",
    "and the variation of the heat flow of the HVAC system:\n",
    "$$q_{HVAC} = K_p (T_{i,sp} - y)$$\n",
    "where $K_p$ is the gain of the P-controller and $T_{i,sp}$ is the HVAC-setpoint for the indoor temperature."
   ]
  },
  {
   "cell_type": "code",
   "execution_count": 36,
   "id": "2712ebd2",
   "metadata": {},
   "outputs": [
    {
     "data": {
      "image/png": "[encoded data removed]",
      "text/plain": [
       "<Figure size 432x288 with 2 Axes>"
      ]
     },
     "metadata": {
      "needs_background": "light"
     },
     "output_type": "display_data"
    }
   ],
   "source": [
    "y_exp = Cs @ temp_exp + Ds @ u.to_numpy().T\n",
    "q_HVAC = Kp * (data['Tisp'] - y_exp[0, :])\n",
    "\n",
    "fig, axs = plt.subplots(2, 1)\n",
    "# plot indoor and outdoor temperature\n",
    "axs[0].plot(t / 3600, y_exp[0, :], label='$T_{indoor}$')\n",
    "axs[0].plot(t / 3600, data['To'], label='$T_{outdoor}$')\n",
    "axs[0].set(xlabel='Time [h]',\n",
    "           ylabel='Temperatures [°C]',\n",
    "           title='Simulation for weather')\n",
    "axs[0].legend(loc='upper right')\n",
    "\n",
    "# plot total solar radiation and HVAC heat flow\n",
    "axs[1].plot(t / 3600,  q_HVAC, label='$q_{HVAC}$')\n",
    "axs[1].plot(t / 3600, data['Φt1'], label='$Φ_{total}$')\n",
    "axs[1].set(xlabel='Time [h]',\n",
    "           ylabel='Heat flows [W]')\n",
    "axs[1].legend(loc='upper right')\n",
    "\n",
    "fig.tight_layout()"
   ]
  },
  {
   "cell_type": "markdown",
   "id": "55fdb214",
   "metadata": {},
   "source": [
    "In the figure above the temperature in a free floating building with **Kp = 0** is shown. Because there is no influence from the HVAC, the indoor temperature follows the temperature of the outside. However it can be noted that the indoor temperature goes slightly higher than the outdoor temperature. This can be explained by the influence of the diffuse radiation that hits on the window and on the inside of the walls.\n",
    "\n",
    "In the figure below the temperature in a climate controlled building with **Kp = 500** is shown. Here the HVAC tries to keep the indoor temperature at the temperature setpoint **Tisp = 20°C**. For even higher values of Kp, the indoor temperature will folow the setpoint closer. However, note that for higher values of Kp, (as discussed before), the stable timestep of the explicit Euler integration is smaller. In the figure below it is also visible that the HVAC can provide heat flows in both directions. When Tout > Tisp, the HVAC removes heat from the inside and when Tout < Tisp, the HVAC provides heat to the building."
   ]
  },
  {
   "cell_type": "markdown",
   "id": "b6fee098-04d9-4afa-af95-36ff2a6333d4",
   "metadata": {},
   "source": [
    "![hvac_controlled](images/hvac_controlled.png)"
   ]
  },
  {
   "cell_type": "markdown",
   "id": "7aae6e4c",
   "metadata": {},
   "source": [
    "## Conclusion"
   ]
  },
  {
   "cell_type": "markdown",
   "id": "16932eaa-3154-41c1-ba81-297e02ef9c03",
   "metadata": {},
   "source": [
    "In this report the temperature modelling of a building was conducted. First, the building plan and possible modelling hypothesis were stated. Subsequently, the thermal model was constructed by modelling the different heat branches of the building. Also a HVAC and solar sources were added to the thermal model. From this model, the used material properties and the building dimensions, all the relevant matrices were constructed. In the following part of the report, the algebraic equations were transformed to a state space model, from which the steady state building temperatures were calculated. This steady state result, gave confidence that the constructed thermal matrices were correct. \n",
    "\n",
    "In a next stage two dynamic simulations were shown. The first one by applying a step input to the outside temperature and the second one by modelling real temperature and solar data. From the first dynamic simulation, it was concluded that initially the inside temperature reacts fast to outside variations. However, afterwards the indoor temperature rises much more slowly due to the thermal inertia of the building. From the second dynamic simulation, the effect of indoor climate control with HVAC was shown."
   ]
  },
  {
   "cell_type": "code",
   "execution_count": null,
   "id": "01b90afe-6767-4222-824e-7767580b7bc0",
   "metadata": {},
   "outputs": [],
   "source": []
  }
 ],
 "metadata": {
  "kernelspec": {
   "display_name": "Python 3 (ipykernel)",
   "language": "python",
   "name": "python3"
  },
  "language_info": {
   "codemirror_mode": {
    "name": "ipython",
    "version": 3
   },
   "file_extension": ".py",
   "mimetype": "text/x-python",
   "name": "python",
   "nbconvert_exporter": "python",
   "pygments_lexer": "ipython3",
   "version": "3.9.7"
  },
  "toc-autonumbering": true,
  "toc-showtags": false
 },
 "nbformat": 4,
 "nbformat_minor": 5
}
